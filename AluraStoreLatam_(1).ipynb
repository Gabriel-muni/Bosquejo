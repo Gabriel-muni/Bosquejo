{
  "nbformat": 4,
  "nbformat_minor": 0,
  "metadata": {
    "colab": {
      "provenance": [],
      "include_colab_link": true
    },
    "kernelspec": {
      "name": "python3",
      "display_name": "Python 3"
    },
    "language_info": {
      "name": "python"
    }
  },
  "cells": [
    {
      "cell_type": "markdown",
      "metadata": {
        "id": "view-in-github",
        "colab_type": "text"
      },
      "source": [
        "<a href=\"https://colab.research.google.com/github/Gabriel-muni/Bosquejo/blob/main/AluraStoreLatam_(1).ipynb\" target=\"_parent\"><img src=\"https://colab.research.google.com/assets/colab-badge.svg\" alt=\"Open In Colab\"/></a>"
      ]
    },
    {
      "cell_type": "markdown",
      "source": [
        "### Importación de datos\n",
        "\n"
      ],
      "metadata": {
        "id": "RhEdWd9YUR6H"
      }
    },
    {
      "cell_type": "code",
      "source": [
        "import pandas as pd"
      ],
      "metadata": {
        "id": "hfoLEvCXkTWS"
      },
      "execution_count": 16,
      "outputs": []
    },
    {
      "cell_type": "code",
      "source": [
        "tiendas = [\"/content/tienda_1 .csv\", \"/content/tienda_2.csv\", \"/content/tienda_3.csv\", \"/content/tienda_4.csv\"]\n",
        "df = pd.concat([pd.read_csv(i) for i in tiendas], ignore_index=True)"
      ],
      "metadata": {
        "id": "50uQA8T3Lrdt"
      },
      "execution_count": 17,
      "outputs": []
    },
    {
      "cell_type": "code",
      "source": [
        "tiendaA = pd.read_csv(\"/content/tienda_1 .csv\")\n",
        "tiendaB = pd.read_csv(\"/content/tienda_2.csv\")\n",
        "tiendaC = pd.read_csv(\"/content/tienda_3.csv\")\n",
        "tiendaD = pd.read_csv(\"/content/tienda_4.csv\")\n",
        "#print(tiendaA)\n",
        "#print(tiendaB)\n",
        "#print(tiendaC)\n",
        "#print(tiendaD)\n"
      ],
      "metadata": {
        "id": "8--A9p65nIA5"
      },
      "execution_count": 18,
      "outputs": []
    },
    {
      "cell_type": "code",
      "source": [
        "tiendaA.head()"
      ],
      "metadata": {
        "id": "fN1Q-AYwnZIN",
        "outputId": "20c94236-e29b-42f6-9f0f-87c4159b7bc8",
        "colab": {
          "base_uri": "https://localhost:8080/",
          "height": 293
        }
      },
      "execution_count": 19,
      "outputs": [
        {
          "output_type": "execute_result",
          "data": {
            "text/plain": [
              "            Producto Categoría del Producto    Precio  Costo de envío  \\\n",
              "0  Asistente virtual           Electrónicos  164300.0          6900.0   \n",
              "1    Mesa de comedor                Muebles  192300.0          8400.0   \n",
              "2      Juego de mesa               Juguetes  209600.0         15900.0   \n",
              "3         Microondas      Electrodomésticos  757500.0         41000.0   \n",
              "4   Silla de oficina                Muebles  335200.0         20200.0   \n",
              "\n",
              "  Fecha de Compra         Vendedor Lugar de Compra  Calificación  \\\n",
              "0      16/01/2021      Pedro Gomez          Bogotá             4   \n",
              "1      18/05/2022  Beatriz Morales        Medellín             1   \n",
              "2      15/03/2021   Juan Fernandez       Cartagena             1   \n",
              "3      03/05/2022   Juan Fernandez            Cali             4   \n",
              "4      07/11/2020    Maria Alfonso        Medellín             5   \n",
              "\n",
              "       Método de pago  Cantidad de cuotas       lat       lon  \n",
              "0  Tarjeta de crédito                   8   4.60971 -74.08175  \n",
              "1  Tarjeta de crédito                   4   6.25184 -75.56359  \n",
              "2  Tarjeta de crédito                   1  10.39972 -75.51444  \n",
              "3               Nequi                   1   3.43722 -76.52250  \n",
              "4               Nequi                   1   6.25184 -75.56359  "
            ],
            "text/html": [
              "\n",
              "  <div id=\"df-03d1ce94-35ac-4136-8f23-b4fb9b3b283b\" class=\"colab-df-container\">\n",
              "    <div>\n",
              "<style scoped>\n",
              "    .dataframe tbody tr th:only-of-type {\n",
              "        vertical-align: middle;\n",
              "    }\n",
              "\n",
              "    .dataframe tbody tr th {\n",
              "        vertical-align: top;\n",
              "    }\n",
              "\n",
              "    .dataframe thead th {\n",
              "        text-align: right;\n",
              "    }\n",
              "</style>\n",
              "<table border=\"1\" class=\"dataframe\">\n",
              "  <thead>\n",
              "    <tr style=\"text-align: right;\">\n",
              "      <th></th>\n",
              "      <th>Producto</th>\n",
              "      <th>Categoría del Producto</th>\n",
              "      <th>Precio</th>\n",
              "      <th>Costo de envío</th>\n",
              "      <th>Fecha de Compra</th>\n",
              "      <th>Vendedor</th>\n",
              "      <th>Lugar de Compra</th>\n",
              "      <th>Calificación</th>\n",
              "      <th>Método de pago</th>\n",
              "      <th>Cantidad de cuotas</th>\n",
              "      <th>lat</th>\n",
              "      <th>lon</th>\n",
              "    </tr>\n",
              "  </thead>\n",
              "  <tbody>\n",
              "    <tr>\n",
              "      <th>0</th>\n",
              "      <td>Asistente virtual</td>\n",
              "      <td>Electrónicos</td>\n",
              "      <td>164300.0</td>\n",
              "      <td>6900.0</td>\n",
              "      <td>16/01/2021</td>\n",
              "      <td>Pedro Gomez</td>\n",
              "      <td>Bogotá</td>\n",
              "      <td>4</td>\n",
              "      <td>Tarjeta de crédito</td>\n",
              "      <td>8</td>\n",
              "      <td>4.60971</td>\n",
              "      <td>-74.08175</td>\n",
              "    </tr>\n",
              "    <tr>\n",
              "      <th>1</th>\n",
              "      <td>Mesa de comedor</td>\n",
              "      <td>Muebles</td>\n",
              "      <td>192300.0</td>\n",
              "      <td>8400.0</td>\n",
              "      <td>18/05/2022</td>\n",
              "      <td>Beatriz Morales</td>\n",
              "      <td>Medellín</td>\n",
              "      <td>1</td>\n",
              "      <td>Tarjeta de crédito</td>\n",
              "      <td>4</td>\n",
              "      <td>6.25184</td>\n",
              "      <td>-75.56359</td>\n",
              "    </tr>\n",
              "    <tr>\n",
              "      <th>2</th>\n",
              "      <td>Juego de mesa</td>\n",
              "      <td>Juguetes</td>\n",
              "      <td>209600.0</td>\n",
              "      <td>15900.0</td>\n",
              "      <td>15/03/2021</td>\n",
              "      <td>Juan Fernandez</td>\n",
              "      <td>Cartagena</td>\n",
              "      <td>1</td>\n",
              "      <td>Tarjeta de crédito</td>\n",
              "      <td>1</td>\n",
              "      <td>10.39972</td>\n",
              "      <td>-75.51444</td>\n",
              "    </tr>\n",
              "    <tr>\n",
              "      <th>3</th>\n",
              "      <td>Microondas</td>\n",
              "      <td>Electrodomésticos</td>\n",
              "      <td>757500.0</td>\n",
              "      <td>41000.0</td>\n",
              "      <td>03/05/2022</td>\n",
              "      <td>Juan Fernandez</td>\n",
              "      <td>Cali</td>\n",
              "      <td>4</td>\n",
              "      <td>Nequi</td>\n",
              "      <td>1</td>\n",
              "      <td>3.43722</td>\n",
              "      <td>-76.52250</td>\n",
              "    </tr>\n",
              "    <tr>\n",
              "      <th>4</th>\n",
              "      <td>Silla de oficina</td>\n",
              "      <td>Muebles</td>\n",
              "      <td>335200.0</td>\n",
              "      <td>20200.0</td>\n",
              "      <td>07/11/2020</td>\n",
              "      <td>Maria Alfonso</td>\n",
              "      <td>Medellín</td>\n",
              "      <td>5</td>\n",
              "      <td>Nequi</td>\n",
              "      <td>1</td>\n",
              "      <td>6.25184</td>\n",
              "      <td>-75.56359</td>\n",
              "    </tr>\n",
              "  </tbody>\n",
              "</table>\n",
              "</div>\n",
              "    <div class=\"colab-df-buttons\">\n",
              "\n",
              "  <div class=\"colab-df-container\">\n",
              "    <button class=\"colab-df-convert\" onclick=\"convertToInteractive('df-03d1ce94-35ac-4136-8f23-b4fb9b3b283b')\"\n",
              "            title=\"Convert this dataframe to an interactive table.\"\n",
              "            style=\"display:none;\">\n",
              "\n",
              "  <svg xmlns=\"http://www.w3.org/2000/svg\" height=\"24px\" viewBox=\"0 -960 960 960\">\n",
              "    <path d=\"M120-120v-720h720v720H120Zm60-500h600v-160H180v160Zm220 220h160v-160H400v160Zm0 220h160v-160H400v160ZM180-400h160v-160H180v160Zm440 0h160v-160H620v160ZM180-180h160v-160H180v160Zm440 0h160v-160H620v160Z\"/>\n",
              "  </svg>\n",
              "    </button>\n",
              "\n",
              "  <style>\n",
              "    .colab-df-container {\n",
              "      display:flex;\n",
              "      gap: 12px;\n",
              "    }\n",
              "\n",
              "    .colab-df-convert {\n",
              "      background-color: #E8F0FE;\n",
              "      border: none;\n",
              "      border-radius: 50%;\n",
              "      cursor: pointer;\n",
              "      display: none;\n",
              "      fill: #1967D2;\n",
              "      height: 32px;\n",
              "      padding: 0 0 0 0;\n",
              "      width: 32px;\n",
              "    }\n",
              "\n",
              "    .colab-df-convert:hover {\n",
              "      background-color: #E2EBFA;\n",
              "      box-shadow: 0px 1px 2px rgba(60, 64, 67, 0.3), 0px 1px 3px 1px rgba(60, 64, 67, 0.15);\n",
              "      fill: #174EA6;\n",
              "    }\n",
              "\n",
              "    .colab-df-buttons div {\n",
              "      margin-bottom: 4px;\n",
              "    }\n",
              "\n",
              "    [theme=dark] .colab-df-convert {\n",
              "      background-color: #3B4455;\n",
              "      fill: #D2E3FC;\n",
              "    }\n",
              "\n",
              "    [theme=dark] .colab-df-convert:hover {\n",
              "      background-color: #434B5C;\n",
              "      box-shadow: 0px 1px 3px 1px rgba(0, 0, 0, 0.15);\n",
              "      filter: drop-shadow(0px 1px 2px rgba(0, 0, 0, 0.3));\n",
              "      fill: #FFFFFF;\n",
              "    }\n",
              "  </style>\n",
              "\n",
              "    <script>\n",
              "      const buttonEl =\n",
              "        document.querySelector('#df-03d1ce94-35ac-4136-8f23-b4fb9b3b283b button.colab-df-convert');\n",
              "      buttonEl.style.display =\n",
              "        google.colab.kernel.accessAllowed ? 'block' : 'none';\n",
              "\n",
              "      async function convertToInteractive(key) {\n",
              "        const element = document.querySelector('#df-03d1ce94-35ac-4136-8f23-b4fb9b3b283b');\n",
              "        const dataTable =\n",
              "          await google.colab.kernel.invokeFunction('convertToInteractive',\n",
              "                                                    [key], {});\n",
              "        if (!dataTable) return;\n",
              "\n",
              "        const docLinkHtml = 'Like what you see? Visit the ' +\n",
              "          '<a target=\"_blank\" href=https://colab.research.google.com/notebooks/data_table.ipynb>data table notebook</a>'\n",
              "          + ' to learn more about interactive tables.';\n",
              "        element.innerHTML = '';\n",
              "        dataTable['output_type'] = 'display_data';\n",
              "        await google.colab.output.renderOutput(dataTable, element);\n",
              "        const docLink = document.createElement('div');\n",
              "        docLink.innerHTML = docLinkHtml;\n",
              "        element.appendChild(docLink);\n",
              "      }\n",
              "    </script>\n",
              "  </div>\n",
              "\n",
              "\n",
              "    <div id=\"df-038bd7de-472b-4ff7-b9de-0b76975fee6a\">\n",
              "      <button class=\"colab-df-quickchart\" onclick=\"quickchart('df-038bd7de-472b-4ff7-b9de-0b76975fee6a')\"\n",
              "                title=\"Suggest charts\"\n",
              "                style=\"display:none;\">\n",
              "\n",
              "<svg xmlns=\"http://www.w3.org/2000/svg\" height=\"24px\"viewBox=\"0 0 24 24\"\n",
              "     width=\"24px\">\n",
              "    <g>\n",
              "        <path d=\"M19 3H5c-1.1 0-2 .9-2 2v14c0 1.1.9 2 2 2h14c1.1 0 2-.9 2-2V5c0-1.1-.9-2-2-2zM9 17H7v-7h2v7zm4 0h-2V7h2v10zm4 0h-2v-4h2v4z\"/>\n",
              "    </g>\n",
              "</svg>\n",
              "      </button>\n",
              "\n",
              "<style>\n",
              "  .colab-df-quickchart {\n",
              "      --bg-color: #E8F0FE;\n",
              "      --fill-color: #1967D2;\n",
              "      --hover-bg-color: #E2EBFA;\n",
              "      --hover-fill-color: #174EA6;\n",
              "      --disabled-fill-color: #AAA;\n",
              "      --disabled-bg-color: #DDD;\n",
              "  }\n",
              "\n",
              "  [theme=dark] .colab-df-quickchart {\n",
              "      --bg-color: #3B4455;\n",
              "      --fill-color: #D2E3FC;\n",
              "      --hover-bg-color: #434B5C;\n",
              "      --hover-fill-color: #FFFFFF;\n",
              "      --disabled-bg-color: #3B4455;\n",
              "      --disabled-fill-color: #666;\n",
              "  }\n",
              "\n",
              "  .colab-df-quickchart {\n",
              "    background-color: var(--bg-color);\n",
              "    border: none;\n",
              "    border-radius: 50%;\n",
              "    cursor: pointer;\n",
              "    display: none;\n",
              "    fill: var(--fill-color);\n",
              "    height: 32px;\n",
              "    padding: 0;\n",
              "    width: 32px;\n",
              "  }\n",
              "\n",
              "  .colab-df-quickchart:hover {\n",
              "    background-color: var(--hover-bg-color);\n",
              "    box-shadow: 0 1px 2px rgba(60, 64, 67, 0.3), 0 1px 3px 1px rgba(60, 64, 67, 0.15);\n",
              "    fill: var(--button-hover-fill-color);\n",
              "  }\n",
              "\n",
              "  .colab-df-quickchart-complete:disabled,\n",
              "  .colab-df-quickchart-complete:disabled:hover {\n",
              "    background-color: var(--disabled-bg-color);\n",
              "    fill: var(--disabled-fill-color);\n",
              "    box-shadow: none;\n",
              "  }\n",
              "\n",
              "  .colab-df-spinner {\n",
              "    border: 2px solid var(--fill-color);\n",
              "    border-color: transparent;\n",
              "    border-bottom-color: var(--fill-color);\n",
              "    animation:\n",
              "      spin 1s steps(1) infinite;\n",
              "  }\n",
              "\n",
              "  @keyframes spin {\n",
              "    0% {\n",
              "      border-color: transparent;\n",
              "      border-bottom-color: var(--fill-color);\n",
              "      border-left-color: var(--fill-color);\n",
              "    }\n",
              "    20% {\n",
              "      border-color: transparent;\n",
              "      border-left-color: var(--fill-color);\n",
              "      border-top-color: var(--fill-color);\n",
              "    }\n",
              "    30% {\n",
              "      border-color: transparent;\n",
              "      border-left-color: var(--fill-color);\n",
              "      border-top-color: var(--fill-color);\n",
              "      border-right-color: var(--fill-color);\n",
              "    }\n",
              "    40% {\n",
              "      border-color: transparent;\n",
              "      border-right-color: var(--fill-color);\n",
              "      border-top-color: var(--fill-color);\n",
              "    }\n",
              "    60% {\n",
              "      border-color: transparent;\n",
              "      border-right-color: var(--fill-color);\n",
              "    }\n",
              "    80% {\n",
              "      border-color: transparent;\n",
              "      border-right-color: var(--fill-color);\n",
              "      border-bottom-color: var(--fill-color);\n",
              "    }\n",
              "    90% {\n",
              "      border-color: transparent;\n",
              "      border-bottom-color: var(--fill-color);\n",
              "    }\n",
              "  }\n",
              "</style>\n",
              "\n",
              "      <script>\n",
              "        async function quickchart(key) {\n",
              "          const quickchartButtonEl =\n",
              "            document.querySelector('#' + key + ' button');\n",
              "          quickchartButtonEl.disabled = true;  // To prevent multiple clicks.\n",
              "          quickchartButtonEl.classList.add('colab-df-spinner');\n",
              "          try {\n",
              "            const charts = await google.colab.kernel.invokeFunction(\n",
              "                'suggestCharts', [key], {});\n",
              "          } catch (error) {\n",
              "            console.error('Error during call to suggestCharts:', error);\n",
              "          }\n",
              "          quickchartButtonEl.classList.remove('colab-df-spinner');\n",
              "          quickchartButtonEl.classList.add('colab-df-quickchart-complete');\n",
              "        }\n",
              "        (() => {\n",
              "          let quickchartButtonEl =\n",
              "            document.querySelector('#df-038bd7de-472b-4ff7-b9de-0b76975fee6a button');\n",
              "          quickchartButtonEl.style.display =\n",
              "            google.colab.kernel.accessAllowed ? 'block' : 'none';\n",
              "        })();\n",
              "      </script>\n",
              "    </div>\n",
              "\n",
              "    </div>\n",
              "  </div>\n"
            ],
            "application/vnd.google.colaboratory.intrinsic+json": {
              "type": "dataframe",
              "variable_name": "tiendaA",
              "summary": "{\n  \"name\": \"tiendaA\",\n  \"rows\": 2359,\n  \"fields\": [\n    {\n      \"column\": \"Producto\",\n      \"properties\": {\n        \"dtype\": \"category\",\n        \"num_unique_values\": 51,\n        \"samples\": [\n          \"Guitarra ac\\u00fastica\",\n          \"Bal\\u00f3n de baloncesto\",\n          \"Smartwatch\"\n        ],\n        \"semantic_type\": \"\",\n        \"description\": \"\"\n      }\n    },\n    {\n      \"column\": \"Categor\\u00eda del Producto\",\n      \"properties\": {\n        \"dtype\": \"category\",\n        \"num_unique_values\": 8,\n        \"samples\": [\n          \"Muebles\",\n          \"Deportes y diversi\\u00f3n\",\n          \"Electr\\u00f3nicos\"\n        ],\n        \"semantic_type\": \"\",\n        \"description\": \"\"\n      }\n    },\n    {\n      \"column\": \"Precio\",\n      \"properties\": {\n        \"dtype\": \"number\",\n        \"std\": 614686.7653873172,\n        \"min\": 7600.0,\n        \"max\": 2977000.0,\n        \"num_unique_values\": 1937,\n        \"samples\": [\n          2499400.0,\n          14800.0,\n          80500.0\n        ],\n        \"semantic_type\": \"\",\n        \"description\": \"\"\n      }\n    },\n    {\n      \"column\": \"Costo de env\\u00edo\",\n      \"properties\": {\n        \"dtype\": \"number\",\n        \"std\": 32860.0017825605,\n        \"min\": 0.0,\n        \"max\": 160800.0,\n        \"num_unique_values\": 753,\n        \"samples\": [\n          117800.0,\n          54700.0,\n          45600.0\n        ],\n        \"semantic_type\": \"\",\n        \"description\": \"\"\n      }\n    },\n    {\n      \"column\": \"Fecha de Compra\",\n      \"properties\": {\n        \"dtype\": \"object\",\n        \"num_unique_values\": 1018,\n        \"samples\": [\n          \"15/09/2022\",\n          \"03/06/2020\",\n          \"06/11/2021\"\n        ],\n        \"semantic_type\": \"\",\n        \"description\": \"\"\n      }\n    },\n    {\n      \"column\": \"Vendedor\",\n      \"properties\": {\n        \"dtype\": \"category\",\n        \"num_unique_values\": 14,\n        \"samples\": [\n          \"Juliana Costa\",\n          \"Mariana Herrera\",\n          \"Pedro Gomez\"\n        ],\n        \"semantic_type\": \"\",\n        \"description\": \"\"\n      }\n    },\n    {\n      \"column\": \"Lugar de Compra\",\n      \"properties\": {\n        \"dtype\": \"category\",\n        \"num_unique_values\": 19,\n        \"samples\": [\n          \"Bogot\\u00e1\",\n          \"Pereira\",\n          \"Neiva\"\n        ],\n        \"semantic_type\": \"\",\n        \"description\": \"\"\n      }\n    },\n    {\n      \"column\": \"Calificaci\\u00f3n\",\n      \"properties\": {\n        \"dtype\": \"number\",\n        \"std\": 1,\n        \"min\": 1,\n        \"max\": 5,\n        \"num_unique_values\": 5,\n        \"samples\": [\n          1,\n          2,\n          5\n        ],\n        \"semantic_type\": \"\",\n        \"description\": \"\"\n      }\n    },\n    {\n      \"column\": \"M\\u00e9todo de pago\",\n      \"properties\": {\n        \"dtype\": \"category\",\n        \"num_unique_values\": 4,\n        \"samples\": [\n          \"Nequi\",\n          \"Tarjeta de d\\u00e9bito\",\n          \"Tarjeta de cr\\u00e9dito\"\n        ],\n        \"semantic_type\": \"\",\n        \"description\": \"\"\n      }\n    },\n    {\n      \"column\": \"Cantidad de cuotas\",\n      \"properties\": {\n        \"dtype\": \"number\",\n        \"std\": 2,\n        \"min\": 1,\n        \"max\": 24,\n        \"num_unique_values\": 15,\n        \"samples\": [\n          7,\n          14,\n          8\n        ],\n        \"semantic_type\": \"\",\n        \"description\": \"\"\n      }\n    },\n    {\n      \"column\": \"lat\",\n      \"properties\": {\n        \"dtype\": \"number\",\n        \"std\": 2.2874452492678627,\n        \"min\": -4.21528,\n        \"max\": 11.54444,\n        \"num_unique_values\": 19,\n        \"samples\": [\n          4.60971,\n          4.81333,\n          2.9273\n        ],\n        \"semantic_type\": \"\",\n        \"description\": \"\"\n      }\n    },\n    {\n      \"column\": \"lon\",\n      \"properties\": {\n        \"dtype\": \"number\",\n        \"std\": 1.2178272727088486,\n        \"min\": -77.28111,\n        \"max\": -67.9239,\n        \"num_unique_values\": 19,\n        \"samples\": [\n          -74.08175,\n          -75.69611,\n          -75.28189\n        ],\n        \"semantic_type\": \"\",\n        \"description\": \"\"\n      }\n    }\n  ]\n}"
            }
          },
          "metadata": {},
          "execution_count": 19
        }
      ]
    },
    {
      "cell_type": "code",
      "source": [
        "tiendaA.info()"
      ],
      "metadata": {
        "colab": {
          "base_uri": "https://localhost:8080/"
        },
        "id": "9OW4w9t1xLx8",
        "outputId": "7ea6160e-7cb8-428f-e730-8050de3bd28e"
      },
      "execution_count": 55,
      "outputs": [
        {
          "output_type": "stream",
          "name": "stdout",
          "text": [
            "<class 'pandas.core.frame.DataFrame'>\n",
            "RangeIndex: 2359 entries, 0 to 2358\n",
            "Data columns (total 12 columns):\n",
            " #   Column                  Non-Null Count  Dtype  \n",
            "---  ------                  --------------  -----  \n",
            " 0   Producto                2359 non-null   object \n",
            " 1   Categoría del Producto  2359 non-null   object \n",
            " 2   Precio                  2359 non-null   float64\n",
            " 3   Costo de envío          2359 non-null   float64\n",
            " 4   Fecha de Compra         2359 non-null   object \n",
            " 5   Vendedor                2359 non-null   object \n",
            " 6   Lugar de Compra         2359 non-null   object \n",
            " 7   Calificación            2359 non-null   int64  \n",
            " 8   Método de pago          2359 non-null   object \n",
            " 9   Cantidad de cuotas      2359 non-null   int64  \n",
            " 10  lat                     2359 non-null   float64\n",
            " 11  lon                     2359 non-null   float64\n",
            "dtypes: float64(4), int64(2), object(6)\n",
            "memory usage: 221.3+ KB\n"
          ]
        }
      ]
    },
    {
      "cell_type": "code",
      "source": [
        "tiendaA[\"Categoría del Producto\"].value_counts()"
      ],
      "metadata": {
        "colab": {
          "base_uri": "https://localhost:8080/",
          "height": 366
        },
        "id": "II4wbX65KTly",
        "outputId": "2e89efb2-bbd3-4574-f064-d005dac4f289"
      },
      "execution_count": 21,
      "outputs": [
        {
          "output_type": "execute_result",
          "data": {
            "text/plain": [
              "Categoría del Producto\n",
              "Muebles                    465\n",
              "Electrónicos               448\n",
              "Juguetes                   324\n",
              "Electrodomésticos          312\n",
              "Deportes y diversión       284\n",
              "Instrumentos musicales     182\n",
              "Libros                     173\n",
              "Artículos para el hogar    171\n",
              "Name: count, dtype: int64"
            ],
            "text/html": [
              "<div>\n",
              "<style scoped>\n",
              "    .dataframe tbody tr th:only-of-type {\n",
              "        vertical-align: middle;\n",
              "    }\n",
              "\n",
              "    .dataframe tbody tr th {\n",
              "        vertical-align: top;\n",
              "    }\n",
              "\n",
              "    .dataframe thead th {\n",
              "        text-align: right;\n",
              "    }\n",
              "</style>\n",
              "<table border=\"1\" class=\"dataframe\">\n",
              "  <thead>\n",
              "    <tr style=\"text-align: right;\">\n",
              "      <th></th>\n",
              "      <th>count</th>\n",
              "    </tr>\n",
              "    <tr>\n",
              "      <th>Categoría del Producto</th>\n",
              "      <th></th>\n",
              "    </tr>\n",
              "  </thead>\n",
              "  <tbody>\n",
              "    <tr>\n",
              "      <th>Muebles</th>\n",
              "      <td>465</td>\n",
              "    </tr>\n",
              "    <tr>\n",
              "      <th>Electrónicos</th>\n",
              "      <td>448</td>\n",
              "    </tr>\n",
              "    <tr>\n",
              "      <th>Juguetes</th>\n",
              "      <td>324</td>\n",
              "    </tr>\n",
              "    <tr>\n",
              "      <th>Electrodomésticos</th>\n",
              "      <td>312</td>\n",
              "    </tr>\n",
              "    <tr>\n",
              "      <th>Deportes y diversión</th>\n",
              "      <td>284</td>\n",
              "    </tr>\n",
              "    <tr>\n",
              "      <th>Instrumentos musicales</th>\n",
              "      <td>182</td>\n",
              "    </tr>\n",
              "    <tr>\n",
              "      <th>Libros</th>\n",
              "      <td>173</td>\n",
              "    </tr>\n",
              "    <tr>\n",
              "      <th>Artículos para el hogar</th>\n",
              "      <td>171</td>\n",
              "    </tr>\n",
              "  </tbody>\n",
              "</table>\n",
              "</div><br><label><b>dtype:</b> int64</label>"
            ]
          },
          "metadata": {},
          "execution_count": 21
        }
      ]
    },
    {
      "cell_type": "code",
      "source": [
        "sorted(tiendaA[\"Categoría del Producto\"].unique())"
      ],
      "metadata": {
        "colab": {
          "base_uri": "https://localhost:8080/"
        },
        "id": "cHlLmat3G7XR",
        "outputId": "3ffb8227-5d94-4cb6-ff99-c4f9f3e23ae0"
      },
      "execution_count": 22,
      "outputs": [
        {
          "output_type": "execute_result",
          "data": {
            "text/plain": [
              "['Artículos para el hogar',\n",
              " 'Deportes y diversión',\n",
              " 'Electrodomésticos',\n",
              " 'Electrónicos',\n",
              " 'Instrumentos musicales',\n",
              " 'Juguetes',\n",
              " 'Libros',\n",
              " 'Muebles']"
            ]
          },
          "metadata": {},
          "execution_count": 22
        }
      ]
    },
    {
      "cell_type": "code",
      "source": [
        "tiendaB.info()"
      ],
      "metadata": {
        "id": "GWyDVKE82gr_",
        "colab": {
          "base_uri": "https://localhost:8080/"
        },
        "outputId": "d854991a-a84f-4ce0-ca16-6d256ee43e84"
      },
      "execution_count": 56,
      "outputs": [
        {
          "output_type": "stream",
          "name": "stdout",
          "text": [
            "<class 'pandas.core.frame.DataFrame'>\n",
            "RangeIndex: 2359 entries, 0 to 2358\n",
            "Data columns (total 12 columns):\n",
            " #   Column                  Non-Null Count  Dtype  \n",
            "---  ------                  --------------  -----  \n",
            " 0   Producto                2359 non-null   object \n",
            " 1   Categoría del Producto  2359 non-null   object \n",
            " 2   Precio                  2359 non-null   float64\n",
            " 3   Costo de envío          2359 non-null   float64\n",
            " 4   Fecha de Compra         2359 non-null   object \n",
            " 5   Vendedor                2359 non-null   object \n",
            " 6   Lugar de Compra         2359 non-null   object \n",
            " 7   Calificación            2359 non-null   int64  \n",
            " 8   Método de pago          2359 non-null   object \n",
            " 9   Cantidad de cuotas      2359 non-null   int64  \n",
            " 10  lat                     2359 non-null   float64\n",
            " 11  lon                     2359 non-null   float64\n",
            "dtypes: float64(4), int64(2), object(6)\n",
            "memory usage: 221.3+ KB\n"
          ]
        }
      ]
    },
    {
      "cell_type": "code",
      "source": [
        "tiendaC.info()"
      ],
      "metadata": {
        "id": "SFe7NzMZ2hJS",
        "colab": {
          "base_uri": "https://localhost:8080/"
        },
        "outputId": "cd1fbdf5-b954-47f1-d435-62b0c5c5f8a0"
      },
      "execution_count": 57,
      "outputs": [
        {
          "output_type": "stream",
          "name": "stdout",
          "text": [
            "<class 'pandas.core.frame.DataFrame'>\n",
            "RangeIndex: 2359 entries, 0 to 2358\n",
            "Data columns (total 12 columns):\n",
            " #   Column                  Non-Null Count  Dtype  \n",
            "---  ------                  --------------  -----  \n",
            " 0   Producto                2359 non-null   object \n",
            " 1   Categoría del Producto  2359 non-null   object \n",
            " 2   Precio                  2359 non-null   float64\n",
            " 3   Costo de envío          2359 non-null   float64\n",
            " 4   Fecha de Compra         2359 non-null   object \n",
            " 5   Vendedor                2359 non-null   object \n",
            " 6   Lugar de Compra         2359 non-null   object \n",
            " 7   Calificación            2359 non-null   int64  \n",
            " 8   Método de pago          2359 non-null   object \n",
            " 9   Cantidad de cuotas      2359 non-null   int64  \n",
            " 10  lat                     2359 non-null   float64\n",
            " 11  lon                     2359 non-null   float64\n",
            "dtypes: float64(4), int64(2), object(6)\n",
            "memory usage: 221.3+ KB\n"
          ]
        }
      ]
    },
    {
      "cell_type": "code",
      "source": [
        "tiendaD.info()"
      ],
      "metadata": {
        "id": "-z0NcFpt2hMl",
        "colab": {
          "base_uri": "https://localhost:8080/"
        },
        "outputId": "1a9df1b4-b867-4825-8423-fc0707a27793"
      },
      "execution_count": 58,
      "outputs": [
        {
          "output_type": "stream",
          "name": "stdout",
          "text": [
            "<class 'pandas.core.frame.DataFrame'>\n",
            "RangeIndex: 2358 entries, 0 to 2357\n",
            "Data columns (total 12 columns):\n",
            " #   Column                  Non-Null Count  Dtype  \n",
            "---  ------                  --------------  -----  \n",
            " 0   Producto                2358 non-null   object \n",
            " 1   Categoría del Producto  2358 non-null   object \n",
            " 2   Precio                  2358 non-null   float64\n",
            " 3   Costo de envío          2358 non-null   float64\n",
            " 4   Fecha de Compra         2358 non-null   object \n",
            " 5   Vendedor                2358 non-null   object \n",
            " 6   Lugar de Compra         2358 non-null   object \n",
            " 7   Calificación            2358 non-null   int64  \n",
            " 8   Método de pago          2358 non-null   object \n",
            " 9   Cantidad de cuotas      2358 non-null   int64  \n",
            " 10  lat                     2358 non-null   float64\n",
            " 11  lon                     2358 non-null   float64\n",
            "dtypes: float64(4), int64(2), object(6)\n",
            "memory usage: 221.2+ KB\n"
          ]
        }
      ]
    },
    {
      "cell_type": "markdown",
      "source": [
        "#1. Análisis de facturación\n",
        "\n"
      ],
      "metadata": {
        "id": "X62IW3KFUIYm"
      }
    },
    {
      "cell_type": "code",
      "source": [
        "ingreso_total_tiendaA = sum(tiendaA[\"Precio\"])\n",
        "ingreso_total_tiendaA"
      ],
      "metadata": {
        "id": "xykobSftV64I",
        "colab": {
          "base_uri": "https://localhost:8080/"
        },
        "outputId": "b55fc273-16d9-4dfb-d7a8-9bb338101313"
      },
      "execution_count": 59,
      "outputs": [
        {
          "output_type": "execute_result",
          "data": {
            "text/plain": [
              "1150880400.0"
            ]
          },
          "metadata": {},
          "execution_count": 59
        }
      ]
    },
    {
      "cell_type": "code",
      "source": [
        "ingreso_total_tiendaB = sum(tiendaB[\"Precio\"])\n",
        "ingreso_total_tiendaB"
      ],
      "metadata": {
        "id": "KDyr8E71V3m-",
        "colab": {
          "base_uri": "https://localhost:8080/"
        },
        "outputId": "f5ef4232-c4db-4008-de15-e88f0737bca1"
      },
      "execution_count": 60,
      "outputs": [
        {
          "output_type": "execute_result",
          "data": {
            "text/plain": [
              "1116343500.0"
            ]
          },
          "metadata": {},
          "execution_count": 60
        }
      ]
    },
    {
      "cell_type": "code",
      "source": [
        "ingreso_total_tiendaC = sum(tiendaC[\"Precio\"])\n",
        "ingreso_total_tiendaC"
      ],
      "metadata": {
        "colab": {
          "base_uri": "https://localhost:8080/"
        },
        "id": "nMcA08CP6azQ",
        "outputId": "fab6fb60-91d8-46df-8957-e0a86530795b"
      },
      "execution_count": 61,
      "outputs": [
        {
          "output_type": "execute_result",
          "data": {
            "text/plain": [
              "1098019600.0"
            ]
          },
          "metadata": {},
          "execution_count": 61
        }
      ]
    },
    {
      "cell_type": "code",
      "source": [
        "ingreso_total_tiendaD= sum(tiendaD[\"Precio\"])\n",
        "ingreso_total_tiendaD"
      ],
      "metadata": {
        "colab": {
          "base_uri": "https://localhost:8080/"
        },
        "id": "XDjG3ljy6a48",
        "outputId": "8dd80755-a034-4db2-a50a-5dbfe22aab8b"
      },
      "execution_count": 62,
      "outputs": [
        {
          "output_type": "execute_result",
          "data": {
            "text/plain": [
              "1038375700.0"
            ]
          },
          "metadata": {},
          "execution_count": 62
        }
      ]
    },
    {
      "cell_type": "code",
      "source": [
        "ingreso_total_cuatro_tiendas = sum(tiendaA[\"Precio\"]) + sum(tiendaB[\"Precio\"]) + sum(tiendaC[\"Precio\"]) + sum(tiendaD[\"Precio\"])\n",
        "ingreso_total_cuatro_tiendas"
      ],
      "metadata": {
        "colab": {
          "base_uri": "https://localhost:8080/"
        },
        "id": "AxXLkZ2utMq7",
        "outputId": "625ea822-81ce-4a41-8e04-8ee1c92887f1"
      },
      "execution_count": 63,
      "outputs": [
        {
          "output_type": "execute_result",
          "data": {
            "text/plain": [
              "4403619200.0"
            ]
          },
          "metadata": {},
          "execution_count": 63
        }
      ]
    },
    {
      "cell_type": "code",
      "source": [
        "data = {\n",
        "    'Tiendas': ['A', 'B', 'C', 'D'],\n",
        "    'Ventas': [1150880400, 1116343500, 1098019600, 1038375700]\n",
        "}\n",
        "\n",
        "df = pd.DataFrame(data)\n",
        "total_ventas = df['Ventas'].sum()\n",
        "df['Porcentaje'] = (df['Ventas'] / total_ventas) * 100\n",
        "df['Porcentaje'] = df['Porcentaje'].round(2)\n",
        "print(df)"
      ],
      "metadata": {
        "colab": {
          "base_uri": "https://localhost:8080/"
        },
        "id": "2x6s33hVDv7H",
        "outputId": "8bb774a1-8baa-4533-a62d-6810178ebb82"
      },
      "execution_count": 64,
      "outputs": [
        {
          "output_type": "stream",
          "name": "stdout",
          "text": [
            "  Tiendas      Ventas  Porcentaje\n",
            "0       A  1150880400       26.13\n",
            "1       B  1116343500       25.35\n",
            "2       C  1098019600       24.93\n",
            "3       D  1038375700       23.58\n"
          ]
        }
      ]
    },
    {
      "cell_type": "markdown",
      "source": [
        "# 2. Ventas por categoría"
      ],
      "metadata": {
        "id": "2V_vcAPzWZmR"
      }
    },
    {
      "cell_type": "code",
      "source": [
        "def ventas_por_categoria(tienda, numero):\n",
        "    ventas = tienda.groupby('Categoría del Producto')['Precio'].sum()\n",
        "    print(f\"\\nVentas por categoría en Tienda {numero}:\")\n",
        "    print(ventas)\n",
        "\n",
        "ventas_por_categoria(tiendaA, 1)\n",
        "ventas_por_categoria(tiendaB, 2)\n",
        "ventas_por_categoria(tiendaC, 3)\n",
        "ventas_por_categoria(tiendaD, 4)\n"
      ],
      "metadata": {
        "id": "A34YupIuYhfF",
        "colab": {
          "base_uri": "https://localhost:8080/"
        },
        "outputId": "a55b1478-0651-4d1e-88d1-717b45b181ed"
      },
      "execution_count": 69,
      "outputs": [
        {
          "output_type": "stream",
          "name": "stdout",
          "text": [
            "\n",
            "Ventas por categoría en Tienda 1:\n",
            "Categoría del Producto\n",
            "Artículos para el hogar     12698400.0\n",
            "Deportes y diversión        39290000.0\n",
            "Electrodomésticos          363685200.0\n",
            "Electrónicos               429493500.0\n",
            "Instrumentos musicales      91299000.0\n",
            "Juguetes                    17995700.0\n",
            "Libros                       8784900.0\n",
            "Muebles                    187633700.0\n",
            "Name: Precio, dtype: float64\n",
            "\n",
            "Ventas por categoría en Tienda 2:\n",
            "Categoría del Producto\n",
            "Artículos para el hogar     14746900.0\n",
            "Deportes y diversión        34744500.0\n",
            "Electrodomésticos          348567800.0\n",
            "Electrónicos               410831100.0\n",
            "Instrumentos musicales     104990300.0\n",
            "Juguetes                    15945400.0\n",
            "Libros                      10091200.0\n",
            "Muebles                    176426300.0\n",
            "Name: Precio, dtype: float64\n",
            "\n",
            "Ventas por categoría en Tienda 3:\n",
            "Categoría del Producto\n",
            "Artículos para el hogar     15060000.0\n",
            "Deportes y diversión        35593100.0\n",
            "Electrodomésticos          329237900.0\n",
            "Electrónicos               410775800.0\n",
            "Instrumentos musicales      77380900.0\n",
            "Juguetes                    19401100.0\n",
            "Libros                       9498700.0\n",
            "Muebles                    201072100.0\n",
            "Name: Precio, dtype: float64\n",
            "\n",
            "Ventas por categoría en Tienda 4:\n",
            "Categoría del Producto\n",
            "Artículos para el hogar     15074500.0\n",
            "Deportes y diversión        33350100.0\n",
            "Electrodomésticos          283260200.0\n",
            "Electrónicos               409476100.0\n",
            "Instrumentos musicales      75102400.0\n",
            "Juguetes                    20262200.0\n",
            "Libros                       9321300.0\n",
            "Muebles                    192528900.0\n",
            "Name: Precio, dtype: float64\n"
          ]
        }
      ]
    },
    {
      "cell_type": "markdown",
      "source": [
        "# 3. Calificación promedio de la tienda\n"
      ],
      "metadata": {
        "id": "Rq6tU_xSY3jk"
      }
    },
    {
      "cell_type": "code",
      "source": [
        "calificacion_tiendaA = (sum(tiendaA[\"Calificación\"])) / len(tiendaA[\"Calificación\"])\n",
        "calificacion_tiendaA = round(calificacion_tiendaA, 3)\n",
        "calificacion_tiendaA"
      ],
      "metadata": {
        "id": "bh3jjjJwY5MU",
        "colab": {
          "base_uri": "https://localhost:8080/"
        },
        "outputId": "a6af0c7f-73c8-4c16-a029-dec5bcee567c"
      },
      "execution_count": 44,
      "outputs": [
        {
          "output_type": "execute_result",
          "data": {
            "text/plain": [
              "3.977"
            ]
          },
          "metadata": {},
          "execution_count": 44
        }
      ]
    },
    {
      "cell_type": "code",
      "source": [
        "calificacion_tiendaB = (sum(tiendaB[\"Calificación\"])) / len(tiendaB[\"Calificación\"])\n",
        "calificacion_tiendaB = round(calificacion_tiendaB, 3)\n",
        "calificacion_tiendaB"
      ],
      "metadata": {
        "id": "I0KkjPoTY88F",
        "colab": {
          "base_uri": "https://localhost:8080/"
        },
        "outputId": "16b668f2-3f13-411f-a16f-5d3567bcad8b"
      },
      "execution_count": 45,
      "outputs": [
        {
          "output_type": "execute_result",
          "data": {
            "text/plain": [
              "4.037"
            ]
          },
          "metadata": {},
          "execution_count": 45
        }
      ]
    },
    {
      "cell_type": "code",
      "source": [
        "calificacion_tiendaC = (sum(tiendaC[\"Calificación\"])) / len(tiendaC[\"Calificación\"])\n",
        "calificacion_tiendaC = round(calificacion_tiendaC, 3)\n",
        "calificacion_tiendaC"
      ],
      "metadata": {
        "id": "8nqRY6H7Drqy",
        "colab": {
          "base_uri": "https://localhost:8080/"
        },
        "outputId": "970e65a1-5f38-435e-b70d-ea2b32da1e00"
      },
      "execution_count": 46,
      "outputs": [
        {
          "output_type": "execute_result",
          "data": {
            "text/plain": [
              "4.048"
            ]
          },
          "metadata": {},
          "execution_count": 46
        }
      ]
    },
    {
      "cell_type": "code",
      "source": [
        "calificacion_tiendaD = (sum(tiendaD[\"Calificación\"])) / len(tiendaD[\"Calificación\"])\n",
        "calificacion_tiendaD = round(calificacion_tiendaD, 3)\n",
        "calificacion_tiendaD"
      ],
      "metadata": {
        "id": "Sof_ZkMgDr54",
        "colab": {
          "base_uri": "https://localhost:8080/"
        },
        "outputId": "269a98ba-d0f7-4741-e34c-eaf8bc174245"
      },
      "execution_count": 47,
      "outputs": [
        {
          "output_type": "execute_result",
          "data": {
            "text/plain": [
              "3.996"
            ]
          },
          "metadata": {},
          "execution_count": 47
        }
      ]
    },
    {
      "cell_type": "markdown",
      "source": [
        "# 4. Productos más y menos vendidos"
      ],
      "metadata": {
        "id": "DmNp1KPBZCm-"
      }
    },
    {
      "cell_type": "code",
      "source": [
        "def top_bottom_productos(tienda_df, nombre_tienda):\n",
        "    # Calcular las ventas por producto\n",
        "    ventas_por_producto = tienda_df.groupby('Producto')['Precio'].sum()\n",
        "\n",
        "    # Ordenar para encontrar los más y menos vendidos\n",
        "    productos_mas_vendidos = ventas_por_producto.sort_values(ascending=False).head(5)\n",
        "    productos_menos_vendidos = ventas_por_producto.sort_values(ascending=True).head(5)\n",
        "\n",
        "    print(f\"--- Top 5 productos más vendidos en {nombre_tienda} ---\")\n",
        "    print(productos_mas_vendidos)\n",
        "    print(f\"\\n--- Top 5 productos menos vendidos en {nombre_tienda} ---\")\n",
        "    print(productos_menos_vendidos)\n",
        "    print(\"-\" * 30)\n",
        "\n",
        "# Aplicar la función a cada tienda\n",
        "top_bottom_productos(tiendaA, \"Tienda A\")\n",
        "top_bottom_productos(tiendaB, \"Tienda B\")\n",
        "top_bottom_productos(tiendaC, \"Tienda C\")\n",
        "top_bottom_productos(tiendaD, \"Tienda D\")"
      ],
      "metadata": {
        "colab": {
          "base_uri": "https://localhost:8080/"
        },
        "id": "suPXXcDuT7gC",
        "outputId": "2d5a18e0-ed05-443b-b6e3-ff2e67bf8283"
      },
      "execution_count": 70,
      "outputs": [
        {
          "output_type": "stream",
          "name": "stdout",
          "text": [
            "--- Top 5 productos más vendidos en Tienda A ---\n",
            "Producto\n",
            "TV LED UHD 4K       142150200.0\n",
            "Refrigerador        112143300.0\n",
            "Iphone 15            97902200.0\n",
            "Smart TV             67452100.0\n",
            "Lavadora de ropa     65783600.0\n",
            "Name: Precio, dtype: float64\n",
            "\n",
            "--- Top 5 productos menos vendidos en Tienda A ---\n",
            "Producto\n",
            "Cuerda para saltar     652800.0\n",
            "Dinosaurio Rex         688900.0\n",
            "Cubo mágico 8x8        696900.0\n",
            "Set de vasos          1359100.0\n",
            "Ajedrez de madera     1430600.0\n",
            "Name: Precio, dtype: float64\n",
            "------------------------------\n",
            "--- Top 5 productos más vendidos en Tienda B ---\n",
            "Producto\n",
            "Iphone 15           113225800.0\n",
            "TV LED UHD 4K       103375000.0\n",
            "Refrigerador         97632500.0\n",
            "Lavadora de ropa     66762300.0\n",
            "Smart TV             61142000.0\n",
            "Name: Precio, dtype: float64\n",
            "\n",
            "--- Top 5 productos menos vendidos en Tienda B ---\n",
            "Producto\n",
            "Cubo mágico 8x8        643600.0\n",
            "Dinosaurio Rex         770300.0\n",
            "Cuerda para saltar     856900.0\n",
            "Ajedrez de madera     1287700.0\n",
            "Set de vasos          1542600.0\n",
            "Name: Precio, dtype: float64\n",
            "------------------------------\n",
            "--- Top 5 productos más vendidos en Tienda C ---\n",
            "Producto\n",
            "Refrigerador     99889700.0\n",
            "TV LED UHD 4K    96669100.0\n",
            "Iphone 15        93225700.0\n",
            "Smart TV         78837300.0\n",
            "Lavavajillas     64364800.0\n",
            "Name: Precio, dtype: float64\n",
            "\n",
            "--- Top 5 productos menos vendidos en Tienda C ---\n",
            "Producto\n",
            "Cubo mágico 8x8             640400.0\n",
            "Dinosaurio Rex              795600.0\n",
            "Cuerda para saltar          853800.0\n",
            "Set de vasos               1210700.0\n",
            "Bloques de construcción    1237200.0\n",
            "Name: Precio, dtype: float64\n",
            "------------------------------\n",
            "--- Top 5 productos más vendidos en Tienda D ---\n",
            "Producto\n",
            "Iphone 15        96697500.0\n",
            "TV LED UHD 4K    90295300.0\n",
            "Smart TV         82790400.0\n",
            "Refrigerador     75271900.0\n",
            "Tablet ABXY      56723100.0\n",
            "Name: Precio, dtype: float64\n",
            "\n",
            "--- Top 5 productos menos vendidos en Tienda D ---\n",
            "Producto\n",
            "Cuerda para saltar     704800.0\n",
            "Cubo mágico 8x8        748400.0\n",
            "Dinosaurio Rex         858100.0\n",
            "Ajedrez de madera     1075500.0\n",
            "Set de vasos          1471800.0\n",
            "Name: Precio, dtype: float64\n",
            "------------------------------\n"
          ]
        }
      ]
    },
    {
      "cell_type": "markdown",
      "source": [
        "# 5. Envío promedio por tienda"
      ],
      "metadata": {
        "id": "Fl0cGi3bZKqU"
      }
    },
    {
      "cell_type": "code",
      "source": [
        "Promed_costo_de_envió_tiendaA = (sum(tiendaA[\"Costo de envío\"])) / len(tiendaA[\"Costo de envío\"])\n",
        "Promed_costo_de_envió_tiendaA = round(Promed_costo_de_envió_tiendaA, 3)\n",
        "Promed_costo_de_envió_tiendaA"
      ],
      "metadata": {
        "id": "S2JeaCykZNy9",
        "colab": {
          "base_uri": "https://localhost:8080/"
        },
        "outputId": "0f9ff47e-1176-415d-c6e5-c6d0b63c5232"
      },
      "execution_count": 50,
      "outputs": [
        {
          "output_type": "execute_result",
          "data": {
            "text/plain": [
              "26018.61"
            ]
          },
          "metadata": {},
          "execution_count": 50
        }
      ]
    },
    {
      "cell_type": "code",
      "source": [
        "Promed_costo_de_envió_tiendaB = (sum(tiendaB[\"Costo de envío\"])) / len(tiendaB[\"Costo de envío\"])\n",
        "Promed_costo_de_envió_tiendaB = round(Promed_costo_de_envió_tiendaB, 3)\n",
        "Promed_costo_de_envió_tiendaB"
      ],
      "metadata": {
        "colab": {
          "base_uri": "https://localhost:8080/"
        },
        "id": "7og-UHa-EPVC",
        "outputId": "e29b1cac-49dd-4a86-e7d6-73064bcd51a3"
      },
      "execution_count": 51,
      "outputs": [
        {
          "output_type": "execute_result",
          "data": {
            "text/plain": [
              "25216.236"
            ]
          },
          "metadata": {},
          "execution_count": 51
        }
      ]
    },
    {
      "cell_type": "code",
      "source": [
        "Promed_costo_de_envió_tiendaC = (sum(tiendaC[\"Costo de envío\"])) / len(tiendaC[\"Costo de envío\"])\n",
        "Promed_costo_de_envió_tiendaC = round(Promed_costo_de_envió_tiendaC, 3)\n",
        "Promed_costo_de_envió_tiendaC"
      ],
      "metadata": {
        "id": "0tSdCie9ZQlt",
        "colab": {
          "base_uri": "https://localhost:8080/"
        },
        "outputId": "5d170d67-2bda-48f4-fd8e-9acbdb1dc486"
      },
      "execution_count": 52,
      "outputs": [
        {
          "output_type": "execute_result",
          "data": {
            "text/plain": [
              "24805.68"
            ]
          },
          "metadata": {},
          "execution_count": 52
        }
      ]
    },
    {
      "cell_type": "code",
      "source": [
        "Promed_costo_de_envió_tiendaD = (sum(tiendaD[\"Costo de envío\"])) / len(tiendaD[\"Costo de envío\"])\n",
        "Promed_costo_de_envió_tiendaD =round(Promed_costo_de_envió_tiendaD, 3)\n",
        "Promed_costo_de_envió_tiendaD"
      ],
      "metadata": {
        "colab": {
          "base_uri": "https://localhost:8080/"
        },
        "id": "XQUpGYhxFl7G",
        "outputId": "f982be57-5758-4b68-c607-c44ab7c4d57c"
      },
      "execution_count": 53,
      "outputs": [
        {
          "output_type": "execute_result",
          "data": {
            "text/plain": [
              "23459.457"
            ]
          },
          "metadata": {},
          "execution_count": 53
        }
      ]
    },
    {
      "cell_type": "markdown",
      "source": [
        "# Recomendaciones\n",
        "Con base en los análisis realizados y los gráficos generados, es momento de sintetizar sus hallazgos en un informe final. Dentro de tu Colab, deberás redactar un texto explicando a qué tienda debe vender el Sr. Juan, teniendo en cuenta todos los factores analizados, como:\n",
        "\n",
        "Los ingresos totales de las tiendas.\n",
        "\n",
        "Las categorías de productos más y menos vendidas.\n",
        "\n",
        "Las calificaciones promedio de los clientes por tienda.\n",
        "\n",
        "Los productos más y menos vendidos.\n",
        "\n",
        "El coste de envío promedio para cada tienda.\n",
        "\n",
        "En su informe, incluya la justificación de su decisión, respaldada por el análisis y las visualizaciones que generó. Explicar, de forma clara y objetiva, las razones por las que una tienda destaca (o no) en relación a las demás, considerando las fortalezas y debilidades de cada una.\n",
        "\n",
        "Su informe debe estar bien estructurado, con una introducción que explique el propósito del análisis, un desarrollo con la presentación de datos y gráficos, y una conclusión recomendando la tienda que se debe vender y justificando la elección."
      ],
      "metadata": {
        "id": "fh7EpV77d3sz"
      }
    },
    {
      "cell_type": "code",
      "source": [
        "import matplotlib.pyplot as plt\n",
        "# Gráfico de torta para el porcentaje de ventas por tienda\n",
        "plt.figure(figsize=(6, 6))\n",
        "plt.pie(df['Porcentaje'], labels=df['Tiendas'], autopct='%1.1f%%', startangle=90, colors=['skyblue', 'lightgreen', 'salmon', 'gold'])\n",
        "plt.title('Porcentaje de Ventas por Tienda')\n",
        "plt.show()"
      ],
      "metadata": {
        "colab": {
          "base_uri": "https://localhost:8080/",
          "height": 521
        },
        "id": "DbTz5H-ARiYX",
        "outputId": "d14a1ac0-34e1-48cc-f624-663b253e4eda"
      },
      "execution_count": 67,
      "outputs": [
        {
          "output_type": "display_data",
          "data": {
            "text/plain": [
              "<Figure size 600x600 with 1 Axes>"
            ],
            "image/png": "[encoded data removed]"
          },
          "metadata": {}
        }
      ]
    },
    {
      "cell_type": "code",
      "source": [
        "# Gráfico de barras para ingresos totales por tienda\n",
        "plt.figure(figsize=(10, 6))\n",
        "plt.bar(df['Tiendas'], df['Ventas'], color=['skyblue', 'lightgreen', 'salmon', 'gold'])\n",
        "plt.title('Ingresos Totales por Tienda')\n",
        "plt.xlabel('Tienda')\n",
        "plt.ylabel('Ingresos Totales')\n",
        "plt.show()"
      ],
      "metadata": {
        "colab": {
          "base_uri": "https://localhost:8080/",
          "height": 564
        },
        "id": "d-4x6XlqSfXE",
        "outputId": "839dd352-aa36-4f16-a44c-bc6249201919"
      },
      "execution_count": 68,
      "outputs": [
        {
          "output_type": "display_data",
          "data": {
            "text/plain": [
              "<Figure size 1000x600 with 1 Axes>"
            ],
            "image/png": "[encoded data removed]"
          },
          "metadata": {}
        }
      ]
    },
    {
      "cell_type": "code",
      "source": [],
      "metadata": {
        "id": "g_JkGe5jTTHC"
      },
      "execution_count": null,
      "outputs": []
    },
    {
      "cell_type": "code",
      "source": [],
      "metadata": {
        "id": "opCoVAQGTS5v"
      },
      "execution_count": null,
      "outputs": []
    },
    {
      "cell_type": "code",
      "source": [],
      "metadata": {
        "id": "rezQ7224TSl4"
      },
      "execution_count": null,
      "outputs": []
    },
    {
      "cell_type": "code",
      "metadata": {
        "id": "902f575f"
      },
      "source": [
        "def top_bottom_productos(tienda_df, nombre_tienda):\n",
        "    # Calcular las ventas por producto\n",
        "    ventas_por_producto = tienda_df.groupby('Producto')['Precio'].sum()\n",
        "\n",
        "    # Ordenar para encontrar los más y menos vendidos\n",
        "    productos_mas_vendidos = ventas_por_producto.sort_values(ascending=False).head(5)\n",
        "    productos_menos_vendidos = ventas_por_producto.sort_values(ascending=True).head(5)\n",
        "\n",
        "    print(f\"--- Top 5 productos más vendidos en {nombre_tienda} ---\")\n",
        "    print(productos_mas_vendidos)\n",
        "    print(f\"\\n--- Top 5 productos menos vendidos en {nombre_tienda} ---\")\n",
        "    print(productos_menos_vendidos)\n",
        "    print(\"-\" * 30)\n",
        "\n",
        "# Aplicar la función a cada tienda\n",
        "top_bottom_productos(tiendaA, \"Tienda A\")\n",
        "top_bottom_productos(tiendaB, \"Tienda B\")\n",
        "top_bottom_productos(tiendaC, \"Tienda C\")\n",
        "top_bottom_productos(tiendaD, \"Tienda D\")"
      ],
      "execution_count": null,
      "outputs": []
    }
  ]
}